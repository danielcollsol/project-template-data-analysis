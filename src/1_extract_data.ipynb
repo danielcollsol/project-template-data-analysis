{
 "cells": [
  {
   "cell_type": "code",
   "execution_count": null,
   "metadata": {},
   "outputs": [],
   "source": [
    "# Notebook formatting\n",
    "%load_ext jupyter_black"
   ]
  },
  {
   "attachments": {},
   "cell_type": "markdown",
   "metadata": {},
   "source": [
    "# ETL Template"
   ]
  },
  {
   "cell_type": "markdown",
   "metadata": {},
   "source": [
    "This notebook is a template for extracting, transforming and loading data from a data source."
   ]
  },
  {
   "cell_type": "markdown",
   "metadata": {},
   "source": [
    "### Config"
   ]
  },
  {
   "cell_type": "code",
   "execution_count": null,
   "metadata": {},
   "outputs": [],
   "source": [
    "# Set credentials for collecting input data if needed\n",
    "CREDENTIALS = {\n",
    "    \"username\": \"xxx\",\n",
    "    \"password\": \"yyy\",\n",
    "} \n",
    "# Set year of most recent input data\n",
    "DATE = \"20XX\""
   ]
  },
  {
   "cell_type": "markdown",
   "metadata": {},
   "source": [
    "## Setup"
   ]
  },
  {
   "cell_type": "markdown",
   "metadata": {},
   "source": [
    "### Imports"
   ]
  },
  {
   "cell_type": "code",
   "execution_count": null,
   "metadata": {},
   "outputs": [],
   "source": [
    "import pandas as pd\n",
    "import numpy as np\n",
    "import pandas_profiling"
   ]
  },
  {
   "cell_type": "markdown",
   "metadata": {},
   "source": [
    "### Global Variables and Constants"
   ]
  },
  {
   "cell_type": "code",
   "execution_count": null,
   "metadata": {},
   "outputs": [],
   "source": [
    "PATH_INPUT_DATASET = \"../data/raw/\"\n",
    "FILENAME_INPUT_DATASET = f\"raw_data.xlsx\"\n",
    "\n",
    "PATH_OUTPUT_DATASET = \"../data/intermediate/\"\n",
    "FILENAME_OUTPUT_DATASET = f\"intermediate_data.xlsx\""
   ]
  },
  {
   "cell_type": "markdown",
   "metadata": {},
   "source": [
    "## Extraction"
   ]
  },
  {
   "cell_type": "markdown",
   "metadata": {},
   "source": [
    "### Instructions"
   ]
  },
  {
   "cell_type": "markdown",
   "metadata": {},
   "source": [
    "1. Visit [Template data portal or website](https://www.example.com)\n",
    "2. Next step\n",
    "3. Final step\n",
    "\n",
    "*Note*: "
   ]
  },
  {
   "cell_type": "markdown",
   "metadata": {},
   "source": [
    "### Collection"
   ]
  },
  {
   "cell_type": "code",
   "execution_count": null,
   "metadata": {},
   "outputs": [],
   "source": [
    "# Retrieve dataset from manual downloaded file or do it automatically via API or scrapping\n",
    "input_dataset = pd.read_excel(PATH_INPUT_DATASET + FILENAME_INPUT_DATASET)\n",
    "input_dataset.head()"
   ]
  },
  {
   "cell_type": "markdown",
   "metadata": {},
   "source": [
    "## Transformation"
   ]
  },
  {
   "cell_type": "code",
   "execution_count": null,
   "metadata": {},
   "outputs": [],
   "source": [
    "# Clean input dataset\n",
    "def filter_and_clean_input_dataset(df: pd.DataFrame) -> pd.DataFrame:\n",
    "    return df\n",
    "\n",
    "staging_dataset = input_dataset.pipe(filter_and_clean_input_dataset)\n",
    "staging_dataset"
   ]
  },
  {
   "cell_type": "code",
   "execution_count": null,
   "metadata": {},
   "outputs": [],
   "source": [
    "# Step 1 of the data transformation - describe here details\n",
    "def process_1(df: pd.DataFrame) -> pd.DataFrame:\n",
    "    return df\n",
    "\n",
    "staging_dataset = staging_dataset.pipe(process_1)\n",
    "staging_dataset"
   ]
  },
  {
   "cell_type": "code",
   "execution_count": null,
   "metadata": {},
   "outputs": [],
   "source": [
    "# Step 2 of the data transformation - describe here details\n",
    "def process_2(df: pd.DataFrame) -> pd.DataFrame:\n",
    "    return df\n",
    "\n",
    "staging_dataset = staging_dataset.pipe(process_2)\n",
    "staging_dataset"
   ]
  },
  {
   "cell_type": "code",
   "execution_count": null,
   "metadata": {},
   "outputs": [],
   "source": [
    "# Clean output dataset\n",
    "def clean_and_order_output_dataset(df: pd.DataFrame) -> pd.DataFrame:\n",
    "    return df\n",
    "\n",
    "output_dataset = staging_dataset.pipe(clean_and_order_output_dataset)\n",
    "output_dataset"
   ]
  },
  {
   "cell_type": "markdown",
   "metadata": {},
   "source": [
    "## Load"
   ]
  },
  {
   "cell_type": "code",
   "execution_count": null,
   "metadata": {},
   "outputs": [],
   "source": [
    "# Go over the output dataset to check its quality\n",
    "pandas_profiling.ProfileReport(output_dataset, title=\"Template Dataset Profiling Report\")"
   ]
  },
  {
   "cell_type": "code",
   "execution_count": null,
   "metadata": {},
   "outputs": [],
   "source": [
    "# Save data\n",
    "pd.to_excel(output_dataset, PATH_OUTPUT_DATASET + FILENAME_OUTPUT_DATASET, index=False)"
   ]
  }
 ],
 "metadata": {
  "kernelspec": {
   "display_name": "Python 3.11.0 ('tjn_etl_pipeline')",
   "language": "python",
   "name": "python3"
  },
  "language_info": {
   "codemirror_mode": {
    "name": "ipython",
    "version": 3
   },
   "file_extension": ".py",
   "mimetype": "text/x-python",
   "name": "python",
   "nbconvert_exporter": "python",
   "pygments_lexer": "ipython3",
   "version": "3.10.8 | packaged by conda-forge | (main, Nov 22 2022, 08:25:29) [Clang 14.0.6 ]"
  },
  "orig_nbformat": 4,
  "vscode": {
   "interpreter": {
    "hash": "ae2035cdf5cf6cc1b58e00f715a785ea4f74882514cc24c8b258d115ec0a20f6"
   }
  }
 },
 "nbformat": 4,
 "nbformat_minor": 2
}
